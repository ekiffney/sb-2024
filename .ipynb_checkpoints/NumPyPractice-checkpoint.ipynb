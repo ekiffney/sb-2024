{
 "cells": [
  {
   "cell_type": "code",
   "execution_count": 4,
   "id": "2941d879",
   "metadata": {},
   "outputs": [
    {
     "name": "stdout",
     "output_type": "stream",
     "text": [
      "Requirement already satisfied: numpy in c:\\users\\ekiff\\anaconda3\\lib\\site-packages (1.24.3)\n"
     ]
    }
   ],
   "source": [
    "!pip install numpy"
   ]
  },
  {
   "cell_type": "code",
   "execution_count": 5,
   "id": "d612f6af",
   "metadata": {},
   "outputs": [],
   "source": [
    "import numpy as np"
   ]
  },
  {
   "cell_type": "markdown",
   "id": "72683e97",
   "metadata": {},
   "source": [
    "### Random:\n",
    "shape defined by args"
   ]
  },
  {
   "cell_type": "code",
   "execution_count": 7,
   "id": "39bbd4c0",
   "metadata": {},
   "outputs": [],
   "source": [
    "data = np.random.rand(2,3,4)"
   ]
  },
  {
   "cell_type": "code",
   "execution_count": null,
   "id": "2ca68b0e",
   "metadata": {},
   "outputs": [],
   "source": []
  },
  {
   "cell_type": "code",
   "execution_count": 9,
   "id": "22060574",
   "metadata": {},
   "outputs": [
    {
     "data": {
      "text/plain": [
       "array([[[0.46163599, 0.93853073, 0.66507383, 0.68757655],\n",
       "        [0.80616448, 0.94995199, 0.71515534, 0.09525494],\n",
       "        [0.81654172, 0.49521616, 0.24750152, 0.23670947]],\n",
       "\n",
       "       [[0.04373133, 0.02518228, 0.69485085, 0.74393495],\n",
       "        [0.71755987, 0.92531485, 0.15055814, 0.0780912 ],\n",
       "        [0.67756228, 0.2872364 , 0.20070038, 0.00439978]]])"
      ]
     },
     "execution_count": 9,
     "metadata": {},
     "output_type": "execute_result"
    }
   ],
   "source": [
    "data"
   ]
  },
  {
   "cell_type": "raw",
   "id": "9db5c882",
   "metadata": {},
   "source": []
  }
 ],
 "metadata": {
  "kernelspec": {
   "display_name": "Python 3 (ipykernel)",
   "language": "python",
   "name": "python3"
  },
  "language_info": {
   "codemirror_mode": {
    "name": "ipython",
    "version": 3
   },
   "file_extension": ".py",
   "mimetype": "text/x-python",
   "name": "python",
   "nbconvert_exporter": "python",
   "pygments_lexer": "ipython3",
   "version": "3.11.5"
  }
 },
 "nbformat": 4,
 "nbformat_minor": 5
}
