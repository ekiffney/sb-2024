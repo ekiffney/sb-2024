{
 "cells": [
  {
   "cell_type": "code",
   "execution_count": 4,
   "id": "2e7e5a3e",
   "metadata": {},
   "outputs": [
    {
     "name": "stdout",
     "output_type": "stream",
     "text": [
      "Requirement already satisfied: numpy in c:\\users\\ekiff\\anaconda3\\lib\\site-packages (1.24.3)\n"
     ]
    }
   ],
   "source": [
    "!pip install numpy"
   ]
  },
  {
   "cell_type": "code",
   "execution_count": 5,
   "id": "affa09db",
   "metadata": {},
   "outputs": [],
   "source": [
    "import numpy as np"
   ]
  },
  {
   "cell_type": "markdown",
   "id": "e18dd799",
   "metadata": {},
   "source": [
    "### Random:\n",
    "shape defined by args"
   ]
  },
  {
   "cell_type": "code",
   "execution_count": 7,
   "id": "fdb5335b",
   "metadata": {},
   "outputs": [],
   "source": [
    "data = np.random.rand(2,3,4)"
   ]
  },
  {
   "cell_type": "code",
   "execution_count": 9,
   "id": "e6f4555c",
   "metadata": {},
   "outputs": [
    {
     "data": {
      "text/plain": [
       "array([[[0.46163599, 0.93853073, 0.66507383, 0.68757655],\n",
       "        [0.80616448, 0.94995199, 0.71515534, 0.09525494],\n",
       "        [0.81654172, 0.49521616, 0.24750152, 0.23670947]],\n",
       "\n",
       "       [[0.04373133, 0.02518228, 0.69485085, 0.74393495],\n",
       "        [0.71755987, 0.92531485, 0.15055814, 0.0780912 ],\n",
       "        [0.67756228, 0.2872364 , 0.20070038, 0.00439978]]])"
      ]
     },
     "execution_count": 9,
     "metadata": {},
     "output_type": "execute_result"
    }
   ],
   "source": [
    "data"
   ]
  },
  {
   "cell_type": "raw",
   "id": "a3d7e4b2",
   "metadata": {},
   "source": [
    "# array of zeros:\n",
    "zeros = np.zeros((2,2,2))\n",
    "\n",
    "# array full of 7s:\n",
    "full = np.full((2,2,2), 7)\n",
    "\n",
    "# array of 1s:\n",
    "ones = np.ones((2,2,2))"
   ]
  },
  {
   "cell_type": "markdown",
   "id": "de26bd9a",
   "metadata": {},
   "source": [
    "# Make array with own numbers"
   ]
  },
  {
   "cell_type": "code",
   "execution_count": null,
   "id": "7b7792bd",
   "metadata": {},
   "outputs": [],
   "source": [
    "arr = np.array([[1,2,3,4],[5,6,7,8]])"
   ]
  },
  {
   "cell_type": "markdown",
   "id": "1624d3f8",
   "metadata": {},
   "source": [
    "### Math on NumPy arrays"
   ]
  },
  {
   "cell_type": "code",
   "execution_count": null,
   "id": "9afcd8a0",
   "metadata": {},
   "outputs": [],
   "source": [
    "list1 = np.random.rand(10)\n",
    "list2 = np.random.rand(10)"
   ]
  },
  {
   "cell_type": "code",
   "execution_count": null,
   "id": "73ef256a",
   "metadata": {},
   "outputs": [],
   "source": [
    "add = np.add(list1, list2)\n",
    "sub = np.subtract(list1, list2)\n",
    "div = np.divide(list1, list2)\n",
    "mult = np.multiply(list1, list2)\n",
    "dot = np.dot(list1, list2)\n"
   ]
  },
  {
   "cell_type": "code",
   "execution_count": 10,
   "id": "376bff32",
   "metadata": {},
   "outputs": [],
   "source": [
    "def my_funct(x):\n",
    "    return x*2"
   ]
  },
  {
   "cell_type": "code",
   "execution_count": 11,
   "id": "f65e3a75",
   "metadata": {},
   "outputs": [
    {
     "name": "stdout",
     "output_type": "stream",
     "text": [
      "14\n"
     ]
    }
   ],
   "source": [
    "print(my_funct(7))"
   ]
  }
 ],
 "metadata": {
  "kernelspec": {
   "display_name": "Python 3 (ipykernel)",
   "language": "python",
   "name": "python3"
  },
  "language_info": {
   "codemirror_mode": {
    "name": "ipython",
    "version": 3
   },
   "file_extension": ".py",
   "mimetype": "text/x-python",
   "name": "python",
   "nbconvert_exporter": "python",
   "pygments_lexer": "ipython3",
   "version": "3.11.5"
  }
 },
 "nbformat": 4,
 "nbformat_minor": 5
}
